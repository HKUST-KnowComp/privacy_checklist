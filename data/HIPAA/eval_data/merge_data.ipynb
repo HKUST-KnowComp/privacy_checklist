{
 "cells": [
  {
   "cell_type": "code",
   "execution_count": 6,
   "metadata": {},
   "outputs": [],
   "source": [
    "import os\n",
    "real_case_path = os.path.join('test_real_cases_hipaa_applicability.csv')\n",
    "\n",
    "synthetic_case_path = os.path.join('train_generate_cases_hipaa_applicability.csv')"
   ]
  },
  {
   "cell_type": "code",
   "execution_count": 11,
   "metadata": {},
   "outputs": [],
   "source": [
    "\n",
    "import pandas as pd\n",
    "import ast\n",
    "\n",
    "\n",
    "generate_case_path = synthetic_case_path\n",
    "real_case_path = real_case_path\n",
    "\n",
    "\n",
    "\n",
    "def read_csv_to_dict(file_path):\n",
    "    '''\n",
    "    Read a CSV file into a list of dictionaries\n",
    "    '''\n",
    "    df = pd.read_csv(file_path)\n",
    "    # Convert the DataFrame into a list of dictionaries\n",
    "    list_of_dicts = df.to_dict(orient='records')\n",
    "    return list_of_dicts\n",
    "\n",
    "\n",
    "'''\n",
    "Process the generate cases and real cases and uniform them into the same format\n",
    "\n",
    "refer_ids: a list of id_s\n",
    "sender (sender's role)\n",
    "subject (subject's role)\n",
    "recipient (recipient's role)\n",
    "norm_type (permit/forbid/not applicable)\n",
    "context (the description of the content)\n",
    "information_type\n",
    "purpose\n",
    "'''\n",
    "def read_generate_cases():\n",
    "    #generate_case_path = generate_case_path\n",
    "    cases = read_csv_to_dict(generate_case_path)\n",
    "    ret = []\n",
    "    for case in cases:\n",
    "        temp_dict = {}\n",
    "        characteristics = ast.literal_eval(case['generate_characteristics'])\n",
    "        temp_dict['refer_ids'] = ast.literal_eval(case['generate_regulation_ids'])\n",
    "        temp_dict['sender'] = characteristics['Sender Role']\n",
    "        temp_dict['subject'] = characteristics['About Role']\n",
    "        temp_dict['recipient'] = characteristics['Recipient Role']\n",
    "        norm_type = case['generate_HIPAA_type']\n",
    "        if norm_type.lower() == 'permit':\n",
    "            temp_dict['norm_type'] = 'positive_norm'\n",
    "        elif norm_type.lower() == 'forbid':\n",
    "            temp_dict['norm_type'] = 'negative_norm'\n",
    "        else:\n",
    "            temp_dict['norm_type'] = 'not applicable'\n",
    "        temp_dict['context'] = case['generate_background']\n",
    "        temp_dict['information_type'] = characteristics['Type']\n",
    "        temp_dict['purpose'] = characteristics['Purpose']\n",
    "        ret.append(temp_dict)\n",
    "    return ret\n",
    "\n",
    "\n",
    "def read_real_cases():\n",
    "    #real_case_path = real_case_path\n",
    "    cases = read_csv_to_dict(real_case_path)\n",
    "    ret = []\n",
    "    for case in cases:\n",
    "        temp_dict = {}\n",
    "        characteristics =  ast.literal_eval(case['generate_characteristics'])\n",
    "        temp_dict['refer_ids'] = ast.literal_eval(case['refer_regulation'])  ## list of regulation ids\n",
    "        temp_dict['sender'] = characteristics['Sender Role']\n",
    "        temp_dict['subject'] = characteristics['About Role']\n",
    "        temp_dict['recipient'] = characteristics['Recipient Role']\n",
    "        norm_type = case['generate_HIPAA_type']\n",
    "        if norm_type.lower() == 'permit':\n",
    "            temp_dict['norm_type'] = 'positive_norm'\n",
    "        elif norm_type.lower() == 'forbid':\n",
    "            temp_dict['norm_type'] = 'negative_norm'\n",
    "        else:\n",
    "            temp_dict['norm_type'] = 'not applicable'\n",
    "        temp_dict['context'] = case['generate_background']\n",
    "        temp_dict['information_type'] = characteristics['Type']\n",
    "        temp_dict['purpose'] = characteristics['Purpose']\n",
    "\n",
    "        ret.append(temp_dict)\n",
    "    return ret\n",
    "\n",
    "def get_cases(type):\n",
    "    if type == 'generate':\n",
    "        return read_generate_cases()\n",
    "    elif type == 'real':\n",
    "        return read_real_cases()\n",
    "    else:\n",
    "        raise NotImplementedError\n"
   ]
  },
  {
   "cell_type": "code",
   "execution_count": 12,
   "metadata": {},
   "outputs": [],
   "source": [
    "generate = read_generate_cases()\n",
    "real = read_real_cases()"
   ]
  },
  {
   "cell_type": "code",
   "execution_count": 15,
   "metadata": {},
   "outputs": [
    {
     "data": {
      "text/plain": [
       "dict_keys(['refer_ids', 'sender', 'subject', 'recipient', 'norm_type', 'context', 'information_type', 'purpose'])"
      ]
     },
     "execution_count": 15,
     "metadata": {},
     "output_type": "execute_result"
    }
   ],
   "source": [
    "generate[0].keys()"
   ]
  },
  {
   "cell_type": "code",
   "execution_count": 16,
   "metadata": {},
   "outputs": [
    {
     "data": {
      "text/plain": [
       "dict_keys(['refer_ids', 'sender', 'subject', 'recipient', 'norm_type', 'context', 'information_type', 'purpose'])"
      ]
     },
     "execution_count": 16,
     "metadata": {},
     "output_type": "execute_result"
    }
   ],
   "source": [
    "real[0].keys()"
   ]
  },
  {
   "cell_type": "code",
   "execution_count": 17,
   "metadata": {},
   "outputs": [],
   "source": [
    "import json\n",
    "\n",
    "with open('generate.json', 'w') as f:\n",
    "    json.dump(generate, f)\n",
    "\n",
    "with open('real.json', 'w') as f:\n",
    "    json.dump(real, f)"
   ]
  }
 ],
 "metadata": {
  "kernelspec": {
   "display_name": "simcse",
   "language": "python",
   "name": "myenv"
  },
  "language_info": {
   "codemirror_mode": {
    "name": "ipython",
    "version": 3
   },
   "file_extension": ".py",
   "mimetype": "text/x-python",
   "name": "python",
   "nbconvert_exporter": "python",
   "pygments_lexer": "ipython3",
   "version": "3.8.12"
  }
 },
 "nbformat": 4,
 "nbformat_minor": 2
}
